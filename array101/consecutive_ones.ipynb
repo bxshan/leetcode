{
 "cells": [
  {
   "cell_type": "code",
   "execution_count": 2,
   "id": "0db1a5cb",
   "metadata": {
    "ExecuteTime": {
     "end_time": "2021-09-04T13:42:11.212825Z",
     "start_time": "2021-09-04T13:42:11.208315Z"
    }
   },
   "outputs": [
    {
     "name": "stdout",
     "output_type": "stream",
     "text": [
      "The answer is:  5\n"
     ]
    }
   ],
   "source": [
    "from typing import List\n",
    "\n",
    "num = [1, 1, 1, 1, 1, 0, 1, 1, 0]\n",
    "\n",
    "\n",
    "def solution(num: List[int]) -> int:\n",
    "    count = 0\n",
    "    max_count = 0\n",
    "\n",
    "    for i in num:\n",
    "        if i == 1:\n",
    "            count += 1\n",
    "        else:\n",
    "            count = 0\n",
    "\n",
    "        if count > max_count:\n",
    "            max_count = count\n",
    "\n",
    "    return max_count\n",
    "\n",
    "\n",
    "answer = solution(num)\n",
    "print(\"The answer is: \", answer)"
   ]
  }
 ],
 "metadata": {
  "kernelspec": {
   "display_name": "Python 3",
   "language": "python",
   "name": "python3"
  },
  "language_info": {
   "codemirror_mode": {
    "name": "ipython",
    "version": 3
   },
   "file_extension": ".py",
   "mimetype": "text/x-python",
   "name": "python",
   "nbconvert_exporter": "python",
   "pygments_lexer": "ipython3",
   "version": "3.8.10"
  }
 },
 "nbformat": 4,
 "nbformat_minor": 5
}
